{
 "cells": [
  {
   "cell_type": "code",
   "execution_count": 1,
   "id": "extended-aspect",
   "metadata": {},
   "outputs": [
    {
     "name": "stderr",
     "output_type": "stream",
     "text": [
      "Using TensorFlow backend.\n",
      "/home/dani/anaconda3/envs/kerasenvTFGExtractedFeatures/lib/python3.6/site-packages/tensorflow/python/framework/dtypes.py:516: FutureWarning: Passing (type, 1) or '1type' as a synonym of type is deprecated; in a future version of numpy, it will be understood as (type, (1,)) / '(1,)type'.\n",
      "  _np_qint8 = np.dtype([(\"qint8\", np.int8, 1)])\n",
      "/home/dani/anaconda3/envs/kerasenvTFGExtractedFeatures/lib/python3.6/site-packages/tensorflow/python/framework/dtypes.py:517: FutureWarning: Passing (type, 1) or '1type' as a synonym of type is deprecated; in a future version of numpy, it will be understood as (type, (1,)) / '(1,)type'.\n",
      "  _np_quint8 = np.dtype([(\"quint8\", np.uint8, 1)])\n",
      "/home/dani/anaconda3/envs/kerasenvTFGExtractedFeatures/lib/python3.6/site-packages/tensorflow/python/framework/dtypes.py:518: FutureWarning: Passing (type, 1) or '1type' as a synonym of type is deprecated; in a future version of numpy, it will be understood as (type, (1,)) / '(1,)type'.\n",
      "  _np_qint16 = np.dtype([(\"qint16\", np.int16, 1)])\n",
      "/home/dani/anaconda3/envs/kerasenvTFGExtractedFeatures/lib/python3.6/site-packages/tensorflow/python/framework/dtypes.py:519: FutureWarning: Passing (type, 1) or '1type' as a synonym of type is deprecated; in a future version of numpy, it will be understood as (type, (1,)) / '(1,)type'.\n",
      "  _np_quint16 = np.dtype([(\"quint16\", np.uint16, 1)])\n",
      "/home/dani/anaconda3/envs/kerasenvTFGExtractedFeatures/lib/python3.6/site-packages/tensorflow/python/framework/dtypes.py:520: FutureWarning: Passing (type, 1) or '1type' as a synonym of type is deprecated; in a future version of numpy, it will be understood as (type, (1,)) / '(1,)type'.\n",
      "  _np_qint32 = np.dtype([(\"qint32\", np.int32, 1)])\n",
      "/home/dani/anaconda3/envs/kerasenvTFGExtractedFeatures/lib/python3.6/site-packages/tensorflow/python/framework/dtypes.py:525: FutureWarning: Passing (type, 1) or '1type' as a synonym of type is deprecated; in a future version of numpy, it will be understood as (type, (1,)) / '(1,)type'.\n",
      "  np_resource = np.dtype([(\"resource\", np.ubyte, 1)])\n",
      "/home/dani/anaconda3/envs/kerasenvTFGExtractedFeatures/lib/python3.6/site-packages/tensorboard/compat/tensorflow_stub/dtypes.py:541: FutureWarning: Passing (type, 1) or '1type' as a synonym of type is deprecated; in a future version of numpy, it will be understood as (type, (1,)) / '(1,)type'.\n",
      "  _np_qint8 = np.dtype([(\"qint8\", np.int8, 1)])\n",
      "/home/dani/anaconda3/envs/kerasenvTFGExtractedFeatures/lib/python3.6/site-packages/tensorboard/compat/tensorflow_stub/dtypes.py:542: FutureWarning: Passing (type, 1) or '1type' as a synonym of type is deprecated; in a future version of numpy, it will be understood as (type, (1,)) / '(1,)type'.\n",
      "  _np_quint8 = np.dtype([(\"quint8\", np.uint8, 1)])\n",
      "/home/dani/anaconda3/envs/kerasenvTFGExtractedFeatures/lib/python3.6/site-packages/tensorboard/compat/tensorflow_stub/dtypes.py:543: FutureWarning: Passing (type, 1) or '1type' as a synonym of type is deprecated; in a future version of numpy, it will be understood as (type, (1,)) / '(1,)type'.\n",
      "  _np_qint16 = np.dtype([(\"qint16\", np.int16, 1)])\n",
      "/home/dani/anaconda3/envs/kerasenvTFGExtractedFeatures/lib/python3.6/site-packages/tensorboard/compat/tensorflow_stub/dtypes.py:544: FutureWarning: Passing (type, 1) or '1type' as a synonym of type is deprecated; in a future version of numpy, it will be understood as (type, (1,)) / '(1,)type'.\n",
      "  _np_quint16 = np.dtype([(\"quint16\", np.uint16, 1)])\n",
      "/home/dani/anaconda3/envs/kerasenvTFGExtractedFeatures/lib/python3.6/site-packages/tensorboard/compat/tensorflow_stub/dtypes.py:545: FutureWarning: Passing (type, 1) or '1type' as a synonym of type is deprecated; in a future version of numpy, it will be understood as (type, (1,)) / '(1,)type'.\n",
      "  _np_qint32 = np.dtype([(\"qint32\", np.int32, 1)])\n",
      "/home/dani/anaconda3/envs/kerasenvTFGExtractedFeatures/lib/python3.6/site-packages/tensorboard/compat/tensorflow_stub/dtypes.py:550: FutureWarning: Passing (type, 1) or '1type' as a synonym of type is deprecated; in a future version of numpy, it will be understood as (type, (1,)) / '(1,)type'.\n",
      "  np_resource = np.dtype([(\"resource\", np.ubyte, 1)])\n"
     ]
    }
   ],
   "source": [
    "import os\n",
    "import numpy as np\n",
    "from keras.preprocessing.image import ImageDataGenerator\n",
    "from keras.models import Sequential\n",
    "from keras.layers import *\n",
    "from keras import optimizers, callbacks\n",
    "import keras.backend as k \n",
    "\n",
    "%matplotlib inline\n",
    "import matplotlib.pyplot as plt\n",
    "\n",
    "import sys, math\n",
    "import pandas as pd\n",
    "from sklearn import preprocessing "
   ]
  },
  {
   "cell_type": "code",
   "execution_count": 2,
   "id": "relevant-short",
   "metadata": {},
   "outputs": [
    {
     "name": "stdout",
     "output_type": "stream",
     "text": [
      "Letter A: num_data: 793\n",
      "Letter B: num_data: 821\n",
      "Letter C: num_data: 966\n",
      "Letter D: num_data: 585\n",
      "Letter E: num_data: 918\n",
      "Letter F: num_data: 628\n",
      "Letter G: num_data: 70\n",
      "Letter H: num_data: 31\n",
      "Letter I: num_data: 698\n",
      "Letter K: num_data: 641\n",
      "Letter L: num_data: 810\n",
      "Letter M: num_data: 283\n",
      "Letter N: num_data: 285\n",
      "Letter O: num_data: 626\n",
      "Letter P: num_data: 22\n",
      "Letter Q: num_data: 11\n",
      "Letter R: num_data: 544\n",
      "Letter S: num_data: 546\n",
      "Letter T: num_data: 260\n",
      "Letter U: num_data: 595\n",
      "Letter V: num_data: 768\n",
      "Letter W: num_data: 818\n",
      "Letter X: num_data: 347\n",
      "Letter Y: num_data: 770\n"
     ]
    }
   ],
   "source": [
    "labels = [\"A\", \"B\", \"C\", \"D\", \"E\", \"F\", \"G\", \"H\", \"I\", \"K\",\n",
    "        \"L\", \"M\", \"N\", \"O\", \"P\", \"Q\", \"R\", \"S\", \"T\", \"U\",\n",
    "        \"V\", \"W\", \"X\", \"Y\"]\n",
    "num_classes = len(labels)\n",
    "\n",
    "data_dir = \"Dataset_short_v3\"\n",
    "train_dir = os.path.join(data_dir, \"train\")\n",
    "batch_size = 32\n",
    "\n",
    "# X: features list, Y: class list to predict\n",
    "X = []\n",
    "Y = []\n",
    "\n",
    "# read each folder of train\n",
    "for label in labels:\n",
    "    name = os.path.join(train_dir, label, label + \".csv\")\n",
    "    df = pd.read_csv(name)\n",
    "    X.extend(df.values)\n",
    "    newSize = len(df)\n",
    "    print(\"Letter %s: num_data: %d\" %( label, newSize))\n",
    "    for i in range(0,newSize):\n",
    "        Y.append(label)\n",
    "    \n",
    "# convert to np array to have shape\n",
    "X = np.array(X)\n",
    "Y = np.array(Y)\n",
    "\n",
    "#one hot encoding\n",
    "lb = preprocessing.LabelBinarizer()\n",
    "lb.fit(labels)\n",
    "Y = lb.transform(Y)"
   ]
  },
  {
   "cell_type": "code",
   "execution_count": 3,
   "id": "canadian-wilderness",
   "metadata": {},
   "outputs": [
    {
     "name": "stdout",
     "output_type": "stream",
     "text": [
      "(12836, 42) (12836, 24)\n"
     ]
    }
   ],
   "source": [
    "sizeX = len(X)\n",
    "sizeY = len(Y)\n",
    "print(X.shape, Y.shape)"
   ]
  },
  {
   "cell_type": "code",
   "execution_count": 4,
   "id": "apart-title",
   "metadata": {},
   "outputs": [],
   "source": [
    "#split into training,val data. test_data\n",
    "from sklearn.model_selection import train_test_split\n",
    "X_train, X_test, Y_train, Y_test = train_test_split(X, Y, test_size=0.05)\n",
    "X_train, X_val, Y_train, Y_val = train_test_split(X_train, Y_train, test_size=0.05)\n"
   ]
  },
  {
   "cell_type": "code",
   "execution_count": 5,
   "id": "palestinian-direction",
   "metadata": {},
   "outputs": [
    {
     "name": "stdout",
     "output_type": "stream",
     "text": [
      "train data  (11584, 42) (11584, 24)\n",
      "val data  (610, 42) (610, 24)\n",
      "test data  (642, 42) (642, 24)\n"
     ]
    },
    {
     "name": "stderr",
     "output_type": "stream",
     "text": [
      "/home/dani/anaconda3/envs/kerasenvTFGExtractedFeatures/lib/python3.6/site-packages/sklearn/utils/validation.py:72: FutureWarning: Pass classes=['A' 'B' 'C' 'D' 'E' 'F' 'G' 'H' 'I' 'K' 'L' 'M' 'N' 'O' 'P' 'Q' 'R' 'S'\n",
      " 'T' 'U' 'V' 'W' 'X' 'Y'], y=['E' 'U' 'O' ... 'F' 'X' 'O'] as keyword args. From version 1.0 (renaming of 0.25) passing these as positional arguments will result in an error\n",
      "  \"will result in an error\", FutureWarning)\n"
     ]
    }
   ],
   "source": [
    "print(\"train data \", X_train.shape, Y_train.shape)\n",
    "print(\"val data \", X_val.shape, Y_val.shape)\n",
    "print(\"test data \", X_test.shape, Y_test.shape)\n",
    "\n",
    "#handle unbalance data \n",
    "Y_train_classes = lb.inverse_transform(Y_train)\n",
    "len(Y_train_classes)\n",
    "from sklearn.utils import class_weight \n",
    "class_weights = class_weight.compute_class_weight('balanced',\n",
    "                                                 np.unique(Y_train_classes),\n",
    "                                                 Y_train_classes)\n",
    "class_weight_dic = dict(enumerate(class_weights))"
   ]
  },
  {
   "cell_type": "code",
   "execution_count": 42,
   "id": "fitting-plaza",
   "metadata": {},
   "outputs": [],
   "source": [
    "X_train??"
   ]
  },
  {
   "cell_type": "code",
   "execution_count": 6,
   "id": "military-vampire",
   "metadata": {},
   "outputs": [
    {
     "name": "stdout",
     "output_type": "stream",
     "text": [
      "WARNING:tensorflow:From /home/dani/anaconda3/envs/kerasenvTFGExtractedFeatures/lib/python3.6/site-packages/keras/backend/tensorflow_backend.py:74: The name tf.get_default_graph is deprecated. Please use tf.compat.v1.get_default_graph instead.\n",
      "\n",
      "WARNING:tensorflow:From /home/dani/anaconda3/envs/kerasenvTFGExtractedFeatures/lib/python3.6/site-packages/keras/backend/tensorflow_backend.py:517: The name tf.placeholder is deprecated. Please use tf.compat.v1.placeholder instead.\n",
      "\n",
      "WARNING:tensorflow:From /home/dani/anaconda3/envs/kerasenvTFGExtractedFeatures/lib/python3.6/site-packages/keras/backend/tensorflow_backend.py:4138: The name tf.random_uniform is deprecated. Please use tf.random.uniform instead.\n",
      "\n"
     ]
    }
   ],
   "source": [
    "model = Sequential()\n",
    "model.add(Dense(32, activation='relu', input_shape=(42,)))\n",
    "#model.add(Dropout(0.01))\n",
    "model.add(Dense(num_classes))\n",
    "model.add(Activation(\"softmax\"))"
   ]
  },
  {
   "cell_type": "code",
   "execution_count": 7,
   "id": "informative-representation",
   "metadata": {},
   "outputs": [
    {
     "name": "stdout",
     "output_type": "stream",
     "text": [
      "_________________________________________________________________\n",
      "Layer (type)                 Output Shape              Param #   \n",
      "=================================================================\n",
      "dense_1 (Dense)              (None, 32)                1376      \n",
      "_________________________________________________________________\n",
      "dense_2 (Dense)              (None, 24)                792       \n",
      "_________________________________________________________________\n",
      "activation_1 (Activation)    (None, 24)                0         \n",
      "=================================================================\n",
      "Total params: 2,168\n",
      "Trainable params: 2,168\n",
      "Non-trainable params: 0\n",
      "_________________________________________________________________\n",
      "WARNING:tensorflow:From /home/dani/anaconda3/envs/kerasenvTFGExtractedFeatures/lib/python3.6/site-packages/keras/optimizers.py:790: The name tf.train.Optimizer is deprecated. Please use tf.compat.v1.train.Optimizer instead.\n",
      "\n",
      "WARNING:tensorflow:From /home/dani/anaconda3/envs/kerasenvTFGExtractedFeatures/lib/python3.6/site-packages/keras/backend/tensorflow_backend.py:3295: The name tf.log is deprecated. Please use tf.math.log instead.\n",
      "\n"
     ]
    }
   ],
   "source": [
    "model.summary()\n",
    "model.compile(optimizer=optimizers.SGD(lr=0.01), loss=\"categorical_crossentropy\",\n",
    "                  metrics=[\"accuracy\"])"
   ]
  },
  {
   "cell_type": "code",
   "execution_count": 8,
   "id": "closed-ferry",
   "metadata": {},
   "outputs": [],
   "source": [
    "#history = model.fit(X_train, Y_train, batch_size=32, epochs=5, validation_data=(X_val, Y_val))\n",
    "checkpoint_dir = \"checkpointsASLFeaturesShortV3/\"\n",
    "checkpoint_name = (checkpoint_dir\n",
    "    + \"featuresShortV3-{val_loss:.4f}-{val_acc:.4f}.hdf5\")\n",
    " \n",
    "if not os.path.exists(checkpoint_dir):\n",
    "    os.makedirs(checkpoint_dir)\n",
    " \n",
    "def create_callbacks():\n",
    "    return [\n",
    "        callbacks.EarlyStopping(\n",
    "            monitor=\"val_acc\",\n",
    "            patience=15,\n",
    "            verbose=1),\n",
    "        callbacks.ModelCheckpoint(\n",
    "            checkpoint_name,\n",
    "            monitor=\"val_acc\",\n",
    "            verbose=1,\n",
    "            save_best_only=True),\n",
    "    ]\n",
    " \n",
    "my_callbacks = create_callbacks()\n",
    "histories = []"
   ]
  },
  {
   "cell_type": "code",
   "execution_count": 11,
   "id": "continuing-reception",
   "metadata": {},
   "outputs": [
    {
     "name": "stdout",
     "output_type": "stream",
     "text": [
      "Train on 11584 samples, validate on 610 samples\n",
      "Epoch 1/20\n",
      "11584/11584 [==============================] - 0s 31us/step - loss: 0.2661 - acc: 0.9407 - val_loss: 0.2397 - val_acc: 0.9475\n",
      "\n",
      "Epoch 00001: val_acc did not improve from 0.95246\n",
      "Epoch 2/20\n",
      "11584/11584 [==============================] - 0s 33us/step - loss: 0.2655 - acc: 0.9415 - val_loss: 0.2412 - val_acc: 0.9475\n",
      "\n",
      "Epoch 00002: val_acc did not improve from 0.95246\n",
      "Epoch 3/20\n",
      "11584/11584 [==============================] - 0s 38us/step - loss: 0.2648 - acc: 0.9403 - val_loss: 0.2398 - val_acc: 0.9459\n",
      "\n",
      "Epoch 00003: val_acc did not improve from 0.95246\n",
      "Epoch 4/20\n",
      "11584/11584 [==============================] - 0s 31us/step - loss: 0.2645 - acc: 0.9422 - val_loss: 0.2424 - val_acc: 0.9443\n",
      "\n",
      "Epoch 00004: val_acc did not improve from 0.95246\n",
      "Epoch 5/20\n",
      "11584/11584 [==============================] - 0s 32us/step - loss: 0.2642 - acc: 0.9402 - val_loss: 0.2413 - val_acc: 0.9459\n",
      "\n",
      "Epoch 00005: val_acc did not improve from 0.95246\n",
      "Epoch 6/20\n",
      "11584/11584 [==============================] - 0s 31us/step - loss: 0.2637 - acc: 0.9411 - val_loss: 0.2393 - val_acc: 0.9459\n",
      "\n",
      "Epoch 00006: val_acc did not improve from 0.95246\n",
      "Epoch 7/20\n",
      "11584/11584 [==============================] - 0s 33us/step - loss: 0.2632 - acc: 0.9419 - val_loss: 0.2398 - val_acc: 0.9492\n",
      "\n",
      "Epoch 00007: val_acc did not improve from 0.95246\n",
      "Epoch 8/20\n",
      "11584/11584 [==============================] - 0s 36us/step - loss: 0.2627 - acc: 0.9414 - val_loss: 0.2394 - val_acc: 0.9475\n",
      "\n",
      "Epoch 00008: val_acc did not improve from 0.95246\n",
      "Epoch 9/20\n",
      "11584/11584 [==============================] - 0s 31us/step - loss: 0.2623 - acc: 0.9423 - val_loss: 0.2394 - val_acc: 0.9459\n",
      "\n",
      "Epoch 00009: val_acc did not improve from 0.95246\n",
      "Epoch 10/20\n",
      "11584/11584 [==============================] - 0s 33us/step - loss: 0.2617 - acc: 0.9417 - val_loss: 0.2380 - val_acc: 0.9459\n",
      "\n",
      "Epoch 00010: val_acc did not improve from 0.95246\n",
      "Epoch 11/20\n",
      "11584/11584 [==============================] - 0s 31us/step - loss: 0.2615 - acc: 0.9417 - val_loss: 0.2370 - val_acc: 0.9475\n",
      "\n",
      "Epoch 00011: val_acc did not improve from 0.95246\n",
      "Epoch 12/20\n",
      "11584/11584 [==============================] - 0s 34us/step - loss: 0.2605 - acc: 0.9424 - val_loss: 0.2399 - val_acc: 0.9492\n",
      "\n",
      "Epoch 00012: val_acc did not improve from 0.95246\n",
      "Epoch 13/20\n",
      "11584/11584 [==============================] - 0s 30us/step - loss: 0.2604 - acc: 0.9426 - val_loss: 0.2381 - val_acc: 0.9475\n",
      "\n",
      "Epoch 00013: val_acc did not improve from 0.95246\n",
      "Epoch 14/20\n",
      "11584/11584 [==============================] - 0s 30us/step - loss: 0.2601 - acc: 0.9422 - val_loss: 0.2381 - val_acc: 0.9459\n",
      "\n",
      "Epoch 00014: val_acc did not improve from 0.95246\n",
      "Epoch 15/20\n",
      "11584/11584 [==============================] - 0s 30us/step - loss: 0.2595 - acc: 0.9420 - val_loss: 0.2347 - val_acc: 0.9459\n",
      "\n",
      "Epoch 00015: val_acc did not improve from 0.95246\n",
      "Epoch 16/20\n",
      "11584/11584 [==============================] - 0s 36us/step - loss: 0.2592 - acc: 0.9419 - val_loss: 0.2360 - val_acc: 0.9475\n",
      "\n",
      "Epoch 00016: val_acc did not improve from 0.95246\n",
      "Epoch 17/20\n",
      "11584/11584 [==============================] - 0s 31us/step - loss: 0.2587 - acc: 0.9427 - val_loss: 0.2327 - val_acc: 0.9508\n",
      "\n",
      "Epoch 00017: val_acc did not improve from 0.95246\n",
      "Epoch 18/20\n",
      "11584/11584 [==============================] - 0s 30us/step - loss: 0.2581 - acc: 0.9424 - val_loss: 0.2350 - val_acc: 0.9475\n",
      "\n",
      "Epoch 00018: val_acc did not improve from 0.95246\n",
      "Epoch 19/20\n",
      "11584/11584 [==============================] - 0s 32us/step - loss: 0.2578 - acc: 0.9432 - val_loss: 0.2362 - val_acc: 0.9475\n",
      "\n",
      "Epoch 00019: val_acc did not improve from 0.95246\n",
      "Epoch 20/20\n",
      "11584/11584 [==============================] - 0s 34us/step - loss: 0.2571 - acc: 0.9429 - val_loss: 0.2329 - val_acc: 0.9508\n",
      "\n",
      "Epoch 00020: val_acc did not improve from 0.95246\n"
     ]
    }
   ],
   "source": [
    "#finetuning\n",
    "K.set_value(model.optimizer.lr,\n",
    "                K.get_value(model.optimizer.lr) / 2)\n",
    "\n",
    "histories.append(model.fit(\n",
    "    X_train, \n",
    "    Y_train, \n",
    "    batch_size=batch_size, \n",
    "    epochs=20, \n",
    "    validation_data=(X_val, Y_val),\n",
    "    callbacks=my_callbacks,\n",
    "    class_weight=class_weight_dic))"
   ]
  },
  {
   "cell_type": "code",
   "execution_count": 12,
   "id": "according-month",
   "metadata": {},
   "outputs": [
    {
     "data": {
      "image/png": "[encoded data removed]",
      "text/plain": [
       "<Figure size 720x432 with 1 Axes>"
      ]
     },
     "metadata": {
      "needs_background": "light"
     },
     "output_type": "display_data"
    }
   ],
   "source": [
    "def combine_histories():\n",
    "  history = {\n",
    "      \"loss\": [],\n",
    "      \"val_loss\": [],\n",
    "      \"acc\": [],\n",
    "      \"val_acc\": []\n",
    "  }\n",
    "\n",
    "  for h in histories:\n",
    "      for k in history.keys():\n",
    "          history[k] += h.history[k]\n",
    "  return history\n",
    "\n",
    "history = combine_histories()\n",
    "\n",
    "def plot_accuracy(history):\n",
    "  fig = plt.figure(figsize=(10, 6))\n",
    "  plt.plot(history[\"acc\"])\n",
    "  plt.plot(history[\"val_acc\"])\n",
    "  plt.xlabel(\"Epoch\")\n",
    "  plt.ylabel(\"Accuracy\")\n",
    "  plt.legend([\"Train\", \"Validation\"])\n",
    "  plt.show()\n",
    "\n",
    "plot_accuracy(history)"
   ]
  },
  {
   "cell_type": "code",
   "execution_count": 13,
   "id": "quarterly-aircraft",
   "metadata": {},
   "outputs": [
    {
     "data": {
      "image/png": "[encoded data removed]",
      "text/plain": [
       "<Figure size 1152x1152 with 2 Axes>"
      ]
     },
     "metadata": {
      "needs_background": "light"
     },
     "output_type": "display_data"
    }
   ],
   "source": [
    "### test model \n",
    "#model.evaluate(X_test, Y_test)\n",
    "\n",
    "#get test data in format\n",
    "probabilities = model.predict(X_test)\n",
    "predicted_labels = np.argmax(probabilities, axis=-1)\n",
    "\n",
    "target_labels_classes = lb.inverse_transform(Y_test)\n",
    "\n",
    "#obtein index of class\n",
    "le = preprocessing.LabelEncoder()\n",
    "le.fit(labels)\n",
    "target_labels = le.transform(target_labels_classes)\n",
    "\n",
    "from sklearn import metrics\n",
    "conf = metrics.confusion_matrix(target_labels, predicted_labels)\n",
    "\n",
    "import seaborn as sns\n",
    "\n",
    "def plot_confusion_matrix(conf, labels, figsize=(8, 8)):\n",
    "    fig = plt.figure(figsize=figsize)\n",
    "    heatmap = sns.heatmap(conf, annot=True, fmt=\"d\")\n",
    "    heatmap.xaxis.set_ticklabels(labels, rotation=45,\n",
    "                                 ha=\"right\", fontsize=12)\n",
    "    heatmap.yaxis.set_ticklabels(labels, rotation=0,\n",
    "                                 ha=\"right\", fontsize=12)\n",
    "    plt.xlabel(\"Predicted label\", fontsize=12)\n",
    "    plt.ylabel(\"True label\", fontsize=12)\n",
    "    plt.show()\n",
    "\n",
    "    \n",
    "\n",
    "plot_confusion_matrix(conf, labels, figsize=(16, 16))"
   ]
  },
  {
   "cell_type": "code",
   "execution_count": 13,
   "id": "narrow-playing",
   "metadata": {
    "scrolled": true
   },
   "outputs": [
    {
     "ename": "ValueError",
     "evalue": "Number of classes, 23, does not match size of target_names, 24. Try specifying the labels parameter",
     "output_type": "error",
     "traceback": [
      "\u001b[0;31m---------------------------------------------------------------------------\u001b[0m",
      "\u001b[0;31mValueError\u001b[0m                                Traceback (most recent call last)",
      "\u001b[0;32m<ipython-input-13-4a92e7ec99d3>\u001b[0m in \u001b[0;36m<module>\u001b[0;34m\u001b[0m\n\u001b[1;32m      1\u001b[0m \u001b[0;31m#metricas\u001b[0m\u001b[0;34m\u001b[0m\u001b[0;34m\u001b[0m\u001b[0;34m\u001b[0m\u001b[0m\n\u001b[0;32m----> 2\u001b[0;31m \u001b[0mprint\u001b[0m\u001b[0;34m(\u001b[0m\u001b[0mmetrics\u001b[0m\u001b[0;34m.\u001b[0m\u001b[0mclassification_report\u001b[0m\u001b[0;34m(\u001b[0m\u001b[0mtarget_labels\u001b[0m\u001b[0;34m,\u001b[0m \u001b[0mpredicted_labels\u001b[0m\u001b[0;34m,\u001b[0m \u001b[0mtarget_names\u001b[0m\u001b[0;34m=\u001b[0m\u001b[0mlabels\u001b[0m\u001b[0;34m)\u001b[0m\u001b[0;34m)\u001b[0m\u001b[0;34m\u001b[0m\u001b[0;34m\u001b[0m\u001b[0m\n\u001b[0m\u001b[1;32m      3\u001b[0m \u001b[0;34m\u001b[0m\u001b[0m\n\u001b[1;32m      4\u001b[0m \u001b[0mwrong_letters\u001b[0m \u001b[0;34m=\u001b[0m \u001b[0mnp\u001b[0m\u001b[0;34m.\u001b[0m\u001b[0mwhere\u001b[0m\u001b[0;34m(\u001b[0m\u001b[0mpredicted_labels\u001b[0m \u001b[0;34m!=\u001b[0m \u001b[0mtarget_labels\u001b[0m\u001b[0;34m)\u001b[0m\u001b[0;34m[\u001b[0m\u001b[0;36m0\u001b[0m\u001b[0;34m]\u001b[0m\u001b[0;34m\u001b[0m\u001b[0;34m\u001b[0m\u001b[0m\n\u001b[1;32m      5\u001b[0m \u001b[0mprobs_max\u001b[0m \u001b[0;34m=\u001b[0m \u001b[0mnp\u001b[0m\u001b[0;34m.\u001b[0m\u001b[0mmax\u001b[0m\u001b[0;34m(\u001b[0m\u001b[0mprobabilities\u001b[0m\u001b[0;34m,\u001b[0m \u001b[0maxis\u001b[0m\u001b[0;34m=\u001b[0m\u001b[0;34m-\u001b[0m\u001b[0;36m1\u001b[0m\u001b[0;34m)\u001b[0m\u001b[0;34m\u001b[0m\u001b[0;34m\u001b[0m\u001b[0m\n",
      "\u001b[0;32m~/anaconda3/envs/kerasenvTFGExtractedFeatures/lib/python3.6/site-packages/sklearn/utils/validation.py\u001b[0m in \u001b[0;36minner_f\u001b[0;34m(*args, **kwargs)\u001b[0m\n\u001b[1;32m     61\u001b[0m             \u001b[0mextra_args\u001b[0m \u001b[0;34m=\u001b[0m \u001b[0mlen\u001b[0m\u001b[0;34m(\u001b[0m\u001b[0margs\u001b[0m\u001b[0;34m)\u001b[0m \u001b[0;34m-\u001b[0m \u001b[0mlen\u001b[0m\u001b[0;34m(\u001b[0m\u001b[0mall_args\u001b[0m\u001b[0;34m)\u001b[0m\u001b[0;34m\u001b[0m\u001b[0;34m\u001b[0m\u001b[0m\n\u001b[1;32m     62\u001b[0m             \u001b[0;32mif\u001b[0m \u001b[0mextra_args\u001b[0m \u001b[0;34m<=\u001b[0m \u001b[0;36m0\u001b[0m\u001b[0;34m:\u001b[0m\u001b[0;34m\u001b[0m\u001b[0;34m\u001b[0m\u001b[0m\n\u001b[0;32m---> 63\u001b[0;31m                 \u001b[0;32mreturn\u001b[0m \u001b[0mf\u001b[0m\u001b[0;34m(\u001b[0m\u001b[0;34m*\u001b[0m\u001b[0margs\u001b[0m\u001b[0;34m,\u001b[0m \u001b[0;34m**\u001b[0m\u001b[0mkwargs\u001b[0m\u001b[0;34m)\u001b[0m\u001b[0;34m\u001b[0m\u001b[0;34m\u001b[0m\u001b[0m\n\u001b[0m\u001b[1;32m     64\u001b[0m \u001b[0;34m\u001b[0m\u001b[0m\n\u001b[1;32m     65\u001b[0m             \u001b[0;31m# extra_args > 0\u001b[0m\u001b[0;34m\u001b[0m\u001b[0;34m\u001b[0m\u001b[0;34m\u001b[0m\u001b[0m\n",
      "\u001b[0;32m~/anaconda3/envs/kerasenvTFGExtractedFeatures/lib/python3.6/site-packages/sklearn/metrics/_classification.py\u001b[0m in \u001b[0;36mclassification_report\u001b[0;34m(y_true, y_pred, labels, target_names, sample_weight, digits, output_dict, zero_division)\u001b[0m\n\u001b[1;32m   1988\u001b[0m                 \u001b[0;34m\"Number of classes, {0}, does not match size of \"\u001b[0m\u001b[0;34m\u001b[0m\u001b[0;34m\u001b[0m\u001b[0m\n\u001b[1;32m   1989\u001b[0m                 \u001b[0;34m\"target_names, {1}. Try specifying the labels \"\u001b[0m\u001b[0;34m\u001b[0m\u001b[0;34m\u001b[0m\u001b[0m\n\u001b[0;32m-> 1990\u001b[0;31m                 \u001b[0;34m\"parameter\"\u001b[0m\u001b[0;34m.\u001b[0m\u001b[0mformat\u001b[0m\u001b[0;34m(\u001b[0m\u001b[0mlen\u001b[0m\u001b[0;34m(\u001b[0m\u001b[0mlabels\u001b[0m\u001b[0;34m)\u001b[0m\u001b[0;34m,\u001b[0m \u001b[0mlen\u001b[0m\u001b[0;34m(\u001b[0m\u001b[0mtarget_names\u001b[0m\u001b[0;34m)\u001b[0m\u001b[0;34m)\u001b[0m\u001b[0;34m\u001b[0m\u001b[0;34m\u001b[0m\u001b[0m\n\u001b[0m\u001b[1;32m   1991\u001b[0m             )\n\u001b[1;32m   1992\u001b[0m     \u001b[0;32mif\u001b[0m \u001b[0mtarget_names\u001b[0m \u001b[0;32mis\u001b[0m \u001b[0;32mNone\u001b[0m\u001b[0;34m:\u001b[0m\u001b[0;34m\u001b[0m\u001b[0;34m\u001b[0m\u001b[0m\n",
      "\u001b[0;31mValueError\u001b[0m: Number of classes, 23, does not match size of target_names, 24. Try specifying the labels parameter"
     ]
    }
   ],
   "source": [
    "#metricas\n",
    "print(metrics.classification_report(target_labels, predicted_labels, target_names=labels))\n",
    "\n",
    "wrong_letters = np.where(predicted_labels != target_labels)[0]\n",
    "probs_max = np.max(probabilities, axis=-1)\n",
    "idx = np.argsort(probs_max[wrong_letters])\n",
    "idx = idx[::-1][:5]\n",
    "worst_predictions = wrong_letters[idx]\n",
    "worst_predictions\n",
    "\n",
    "worst_predictions \n",
    "\n",
    "for i in worst_predictions:\n",
    "    print(\"was predicted as %s  %.4f\" % (\n",
    "            predicted_labels[i],\n",
    "            probs_max[i]\n",
    "    ))"
   ]
  },
  {
   "cell_type": "code",
   "execution_count": 14,
   "id": "optimum-sample",
   "metadata": {},
   "outputs": [],
   "source": [
    "import coremltools\n",
    "from keras.models import load_model"
   ]
  },
  {
   "cell_type": "code",
   "execution_count": 15,
   "id": "diverse-loading",
   "metadata": {},
   "outputs": [],
   "source": [
    "best_model = load_model(checkpoint_dir + \"featuresShortV3-0.2536-0.9525.hdf5\")"
   ]
  },
  {
   "cell_type": "code",
   "execution_count": 16,
   "id": "emerging-invention",
   "metadata": {},
   "outputs": [
    {
     "name": "stdout",
     "output_type": "stream",
     "text": [
      "0 : dense_1_input, <keras.engine.input_layer.InputLayer object at 0x7f79c90db0f0>\n",
      "1 : dense_1, <keras.layers.core.Dense object at 0x7f79c90db0b8>\n",
      "2 : dense_1__activation__, <keras.layers.core.Activation object at 0x7f7a001b8278>\n",
      "3 : dense_2, <keras.layers.core.Dense object at 0x7f79c90db4e0>\n",
      "4 : activation_1, <keras.layers.core.Activation object at 0x7f79c90e5208>\n"
     ]
    }
   ],
   "source": [
    "coreml_model = coremltools.converters.keras.convert(\n",
    "        best_model,\n",
    "        input_names=\"handpoint\",\n",
    "        output_names=\"labelProbability\",\n",
    "        predicted_feature_name=\"label\",\n",
    "        class_labels=labels)\n",
    "\n",
    "# add metadata to the model\n",
    "coreml_model.author = \"Daniel\"\n",
    "coreml_model.license = \"Public\"\n",
    "coreml_model.short_description = \"Hand points classifier for 24 different letters of ASL\"\n",
    "\n",
    "coreml_model.input_description[\"handpoint\"] = \"normalized coordinates for hand points\"\n",
    "coreml_model.output_description[\"labelProbability\"]= \"Prediction probabilities\"\n",
    "coreml_model.output_description[\"label\"]= \"Class label of top prediction\"\n",
    "\n",
    "coreml_model.save(\"ASLHandPointShortV3.mlmodel\")"
   ]
  },
  {
   "cell_type": "code",
   "execution_count": 1,
   "id": "choice-flashing",
   "metadata": {},
   "outputs": [],
   "source": [
    "labels = [\"A\", \"B\", \"C\", \"D\", \"E\", \"F\", \"G\", \"H\", \"I\", \"K\",\n",
    "        \"L\", \"M\", \"N\", \"O\", \"P\", \"Q\", \"R\", \"S\", \"T\", \"U\",\n",
    "        \"V\", \"W\", \"X\", \"Y\"]\n",
    "num_classes = len(labels)"
   ]
  },
  {
   "cell_type": "code",
   "execution_count": 2,
   "id": "assisted-plane",
   "metadata": {},
   "outputs": [
    {
     "data": {
      "text/plain": [
       "24"
      ]
     },
     "execution_count": 2,
     "metadata": {},
     "output_type": "execute_result"
    }
   ],
   "source": [
    "num_classes"
   ]
  },
  {
   "cell_type": "code",
   "execution_count": 17,
   "id": "unavailable-tuition",
   "metadata": {},
   "outputs": [
    {
     "data": {
      "text/plain": [
       "{0: 1.1571888412017168,\n",
       " 1: 1.243393047179851,\n",
       " 2: 1.1893875127248048,\n",
       " 3: 1.1514865308804205,\n",
       " 4: 1.1499753937007875,\n",
       " 5: 0.9151762402088773,\n",
       " 6: 0.4776676206050695,\n",
       " 7: 0.5738580550098232,\n",
       " 8: 0.985693194600675,\n",
       " 9: 1.0207119976703554,\n",
       " 10: 0.8778174305033809,\n",
       " 11: 0.7334431889516635,\n",
       " 12: 0.735598111227702,\n",
       " 13: 1.140619915392125,\n",
       " 14: 14.6046875,\n",
       " 15: 6.613443396226415,\n",
       " 16: 1.2527251608291636,\n",
       " 17: 1.0909197012138188,\n",
       " 18: 0.5263740801922211,\n",
       " 19: 1.3347772277227723,\n",
       " 20: 1.2132658359293873,\n",
       " 21: 1.1687645881960653,\n",
       " 22: 1.1797795355099294,\n",
       " 23: 1.0204148471615722}"
      ]
     },
     "execution_count": 17,
     "metadata": {},
     "output_type": "execute_result"
    }
   ],
   "source": [
    "dict(enumerate(class_weights))"
   ]
  },
  {
   "cell_type": "code",
   "execution_count": null,
   "id": "portable-mexico",
   "metadata": {},
   "outputs": [],
   "source": []
  }
 ],
 "metadata": {
  "kernelspec": {
   "display_name": "Python 3",
   "language": "python",
   "name": "python3"
  },
  "language_info": {
   "codemirror_mode": {
    "name": "ipython",
    "version": 3
   },
   "file_extension": ".py",
   "mimetype": "text/x-python",
   "name": "python",
   "nbconvert_exporter": "python",
   "pygments_lexer": "ipython3",
   "version": "3.6.8"
  }
 },
 "nbformat": 4,
 "nbformat_minor": 5
}
